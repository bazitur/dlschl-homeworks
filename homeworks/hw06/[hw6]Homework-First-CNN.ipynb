{
 "cells": [
  {
   "cell_type": "code",
   "execution_count": 1,
   "metadata": {
    "collapsed": true
   },
   "outputs": [],
   "source": [
    "from IPython import display\n",
    "import os\n",
    "import torch\n",
    "\n",
    "from sklearn.preprocessing import LabelEncoder, OneHotEncoder\n",
    "from sklearn.model_selection import train_test_split\n",
    "import numpy as np\n",
    "import matplotlib.pyplot as plt\n",
    "%matplotlib inline"
   ]
  },
  {
   "cell_type": "markdown",
   "metadata": {},
   "source": [
    "В этом домашнем задании будем работать с [notMNIST](http://yaroslavvb.com/upload/notMNIST/notMNIST_small.tar.gz). Датасет представляет из себя 10 классов - стандартные и не очень начертания букв от A до J. "
   ]
  },
  {
   "cell_type": "code",
   "execution_count": 2,
   "metadata": {
    "collapsed": true
   },
   "outputs": [],
   "source": [
    "import pickle\n",
    "\n",
    "with open('notMNIST_train.pickle', 'rb') as f:\n",
    "    X_train = pickle.load(f)\n",
    "    \n",
    "with open('notMNIST_test.pickle', 'rb') as f:\n",
    "    X_test = pickle.load(f)\n",
    "    \n",
    "with open('notMNIST_train_labels.pickle', 'rb') as f:\n",
    "    y_train = pickle.load(f)\n",
    "    \n",
    "with open('notMNIST_test_labels.pickle', 'rb') as f:\n",
    "    y_test = pickle.load(f)"
   ]
  },
  {
   "cell_type": "code",
   "execution_count": 3,
   "metadata": {
    "collapsed": true
   },
   "outputs": [],
   "source": [
    "encoder = LabelEncoder()\n",
    "encoder.fit(y_train)\n",
    "y_train_encoded = encoder.transform(y_train)\n",
    "y_test_encoded = encoder.transform(y_test)"
   ]
  },
  {
   "cell_type": "markdown",
   "metadata": {},
   "source": [
    "Посмотрим на данные. (Они уже отнормированы)"
   ]
  },
  {
   "cell_type": "code",
   "execution_count": 4,
   "metadata": {},
   "outputs": [
    {
     "name": "stdout",
     "output_type": "stream",
     "text": [
      "Max: 0.5, min: -0.5\n"
     ]
    }
   ],
   "source": [
    "print('Max: {}, min: {}'.format(X_train.max(), X_train.min()))"
   ]
  },
  {
   "cell_type": "code",
   "execution_count": 5,
   "metadata": {
    "scrolled": false
   },
   "outputs": [
    {
     "name": "stdout",
     "output_type": "stream",
     "text": [
      "B\n"
     ]
    },
    {
     "data": {
      "image/png": "[encoded data removed]",
      "text/plain": [
       "<matplotlib.figure.Figure at 0x7f98824e15f8>"
      ]
     },
     "metadata": {},
     "output_type": "display_data"
    },
    {
     "name": "stdout",
     "output_type": "stream",
     "text": [
      "H\n"
     ]
    },
    {
     "data": {
      "image/png": "[encoded data removed]",
      "text/plain": [
       "<matplotlib.figure.Figure at 0x7f9882487dd8>"
      ]
     },
     "metadata": {},
     "output_type": "display_data"
    },
    {
     "name": "stdout",
     "output_type": "stream",
     "text": [
      "A\n"
     ]
    },
    {
     "data": {
      "image/png": "[encoded data removed]",
      "text/plain": [
       "<matplotlib.figure.Figure at 0x7f98f416bdd8>"
      ]
     },
     "metadata": {},
     "output_type": "display_data"
    },
    {
     "name": "stdout",
     "output_type": "stream",
     "text": [
      "B\n"
     ]
    },
    {
     "data": {
      "image/png": "[encoded data removed]",
      "text/plain": [
       "<matplotlib.figure.Figure at 0x7f988241b1d0>"
      ]
     },
     "metadata": {},
     "output_type": "display_data"
    },
    {
     "name": "stdout",
     "output_type": "stream",
     "text": [
      "D\n"
     ]
    },
    {
     "data": {
      "image/png": "[encoded data removed]",
      "text/plain": [
       "<matplotlib.figure.Figure at 0x7f98823d34e0>"
      ]
     },
     "metadata": {},
     "output_type": "display_data"
    },
    {
     "name": "stdout",
     "output_type": "stream",
     "text": [
      "E\n"
     ]
    },
    {
     "data": {
      "image/png": "[encoded data removed]",
      "text/plain": [
       "<matplotlib.figure.Figure at 0x7f98823856a0>"
      ]
     },
     "metadata": {},
     "output_type": "display_data"
    },
    {
     "name": "stdout",
     "output_type": "stream",
     "text": [
      "G\n"
     ]
    },
    {
     "data": {
      "image/png": "[encoded data removed]",
      "text/plain": [
       "<matplotlib.figure.Figure at 0x7f98823b70f0>"
      ]
     },
     "metadata": {},
     "output_type": "display_data"
    },
    {
     "name": "stdout",
     "output_type": "stream",
     "text": [
      "A\n"
     ]
    },
    {
     "data": {
      "image/png": "[encoded data removed]",
      "text/plain": [
       "<matplotlib.figure.Figure at 0x7f9882362978>"
      ]
     },
     "metadata": {},
     "output_type": "display_data"
    },
    {
     "name": "stdout",
     "output_type": "stream",
     "text": [
      "I\n"
     ]
    },
    {
     "data": {
      "image/png": "[encoded data removed]",
      "text/plain": [
       "<matplotlib.figure.Figure at 0x7f988231c7b8>"
      ]
     },
     "metadata": {},
     "output_type": "display_data"
    },
    {
     "name": "stdout",
     "output_type": "stream",
     "text": [
      "F\n"
     ]
    },
    {
     "data": {
      "image/png": "[encoded data removed]",
      "text/plain": [
       "<matplotlib.figure.Figure at 0x7f98822c3cc0>"
      ]
     },
     "metadata": {},
     "output_type": "display_data"
    }
   ],
   "source": [
    "for i in range(10):\n",
    "    sample_id = np.random.randint(0, len(y_train))\n",
    "    print(y_train[sample_id])\n",
    "    plt.figure(figsize=(2,2))\n",
    "    plt.imshow(X_train[sample_id], cmap='gray')\n",
    "    plt.show()"
   ]
  },
  {
   "cell_type": "markdown",
   "metadata": {},
   "source": [
    "Выполним OneHotEncoding, и превратим данные в Pytorch.tensor"
   ]
  },
  {
   "cell_type": "code",
   "execution_count": 6,
   "metadata": {
    "collapsed": true
   },
   "outputs": [],
   "source": [
    "oneHotEncoder = OneHotEncoder()\n",
    "y_train_one_hot = oneHotEncoder.fit_transform(y_train_encoded.reshape(-1, 1)).toarray()\n",
    "y_test_one_hot = oneHotEncoder.fit_transform(y_test_encoded.reshape(-1, 1)).toarray()"
   ]
  },
  {
   "cell_type": "code",
   "execution_count": 7,
   "metadata": {
    "collapsed": true
   },
   "outputs": [],
   "source": [
    "def to_tensor(X):\n",
    "    return torch.from_numpy(X.astype('float32'))"
   ]
  },
  {
   "cell_type": "code",
   "execution_count": 8,
   "metadata": {
    "collapsed": true
   },
   "outputs": [],
   "source": [
    "X_train = to_tensor(X_train)\n",
    "X_test = to_tensor(X_test)\n",
    "y_train = to_tensor(y_train_one_hot)\n",
    "y_test = to_tensor(y_test_one_hot)"
   ]
  },
  {
   "cell_type": "markdown",
   "metadata": {},
   "source": [
    "Вернёмся к коду с семинара, воспользуемся им, чтобы обучить сеть"
   ]
  },
  {
   "cell_type": "code",
   "execution_count": 9,
   "metadata": {
    "collapsed": true
   },
   "outputs": [],
   "source": [
    "# from __future__ import print_function\n",
    "from torch.autograd import Variable"
   ]
  },
  {
   "cell_type": "markdown",
   "metadata": {},
   "source": [
    "Абстрактный слой. Два метода: forward - код, выполняющий прямой проход (реализуется для каждого слоя отдельно), backward - обратный проход, принимает optimizer, который делает всю грязную работу по обучению. Дополнительное поле - runtime для сохранения временных значений, необходимых в процессе обучения (например для момента градиента). Дополнительный метод visualize - вспомогательный, для вывода информации о слое."
   ]
  },
  {
   "cell_type": "code",
   "execution_count": 10,
   "metadata": {
    "collapsed": true
   },
   "outputs": [],
   "source": [
    "class Layer(object):\n",
    "    '''\n",
    "        Абстрактный класс слоя\n",
    "        \n",
    "        input_shape - размер входного тензора, например (-1, 28, 28). \n",
    "        -1 означает, что размер по этой оси будет определяться в момент исполнения. \n",
    "        В данном случае -1 соответствует оси кол-ву элементов в батче (т.к. проход применяется ко всему батчу)\n",
    "        \n",
    "        output_shape - размер выходного тензора\n",
    "    '''\n",
    "    def __init__(self, input_shape, output_shape):\n",
    "        self.input_shape = input_shape\n",
    "        self.output_shape = output_shape\n",
    "        self.params = []\n",
    "        self.runtime = []\n",
    "    '''\n",
    "        Прямой проход\n",
    "        \n",
    "        input - входные данные размера self.input_shape\n",
    "        \n",
    "        test - флаг, указывающий на то, что сеть работает в режиме тестирования, а не обучения\n",
    "    '''\n",
    "    def forward(self, input, test=False):\n",
    "        assert False, 'Abstract class'\n",
    "    '''\n",
    "        Обратный проход\n",
    "        optimizer - объект с функцией update(params, output), обновляющий параметры\n",
    "    '''\n",
    "    def backward(self, optimizer):\n",
    "        optimizer.update(self.params, self.runtime)\n",
    "        \n",
    "    def visualize(self):\n",
    "        assert False, 'Abstract class'"
   ]
  },
  {
   "cell_type": "markdown",
   "metadata": {},
   "source": [
    "Полносвязный слой. Два переменных-параметра - weights и bias. (Делает преобразование вида $x W + b$, если вдруг кто-то смог забыть.)"
   ]
  },
  {
   "cell_type": "code",
   "execution_count": 11,
   "metadata": {
    "collapsed": true
   },
   "outputs": [],
   "source": [
    "class Dense(Layer):\n",
    "    '''\n",
    "        Полносвязный слой.\n",
    "        \n",
    "        input_size - кол-во фичей на входе\n",
    "        output_size - кол-во фичей на выходе\n",
    "    '''\n",
    "    def __init__(self, input_size, output_size):\n",
    "        assert input_size > 0\n",
    "        assert output_size > 0\n",
    "        super(Dense, self).__init__((-1, input_size), (-1, output_size))\n",
    "        self.weights = Variable(torch.randn((input_size, output_size))/np.sqrt(input_size), requires_grad=True)\n",
    "        self.bias = Variable(torch.randn(output_size)/np.sqrt(input_size), requires_grad=True)\n",
    "        self.params = [self.weights, self.bias]\n",
    "    \n",
    "    def forward(self, x, test=False):\n",
    "        self.output = x @ self.weights + self.bias\n",
    "        return self.output\n",
    "    \n",
    "    def visualize(self):\n",
    "        print('Dense Layer {} → {}'.format(self.input_shape, self.output_shape))"
   ]
  },
  {
   "cell_type": "markdown",
   "metadata": {},
   "source": [
    "Слой, делающий нелинейное преобразование ReLU."
   ]
  },
  {
   "cell_type": "code",
   "execution_count": 12,
   "metadata": {
    "collapsed": true
   },
   "outputs": [],
   "source": [
    "class ReLU(Layer):\n",
    "    '''\n",
    "        ReLU\n",
    "    '''\n",
    "    def __init__(self, input_shape):\n",
    "        super(ReLU, self).__init__(input_shape, input_shape)\n",
    "    \n",
    "    def forward(self, x, test=False):\n",
    "        self.output = x.clamp(min = 0)\n",
    "        return self.output\n",
    "    \n",
    "    def visualize(self):\n",
    "        print('Relu {}'.format(self.input_shape))"
   ]
  },
  {
   "cell_type": "markdown",
   "metadata": {},
   "source": [
    "Слой, возвращающий *логарифм* преобразования Softmax ($softmax(x)_{i} = \\frac{e^{x_i}}{\\sum_{j}e^{x_j}}$) Мы берём логарифм, т.к. это вычисление более стабильно и имеет готовую реализацию."
   ]
  },
  {
   "cell_type": "code",
   "execution_count": 13,
   "metadata": {
    "collapsed": true
   },
   "outputs": [],
   "source": [
    "class Softmax(Layer):\n",
    "    '''\n",
    "        Softmax \n",
    "    '''\n",
    "    def __init__(self, input_size):\n",
    "        super(Softmax, self).__init__((-1, input_size), (-1, input_size))\n",
    "    \n",
    "    def forward(self, x, test=False):\n",
    "        self.output = torch.nn.functional.log_softmax(x)\n",
    "        return self.output\n",
    "    \n",
    "    def visualize(self):\n",
    "        print('Softmax {}'.format(self.input_shape))"
   ]
  },
  {
   "cell_type": "markdown",
   "metadata": {},
   "source": [
    " Слой, меняющий форму переданного тензора. Напоминание: .view() - преобразование формы тензора."
   ]
  },
  {
   "cell_type": "code",
   "execution_count": 14,
   "metadata": {
    "collapsed": true
   },
   "outputs": [],
   "source": [
    "class Transform(Layer):\n",
    "    '''\n",
    "     Изменение формы\n",
    "    '''\n",
    "    def __init__(self, input_shape, output_shape):\n",
    "        super(Transform, self).__init__(input_shape, output_shape)\n",
    "        \n",
    "    def forward(self, x, test=False):\n",
    "        return x.view(self.output_shape)\n",
    "    \n",
    "    def visualize(self):\n",
    "        print('Transform {} → {}'.format(self.input_shape, self.output_shape))"
   ]
  },
  {
   "cell_type": "markdown",
   "metadata": {},
   "source": [
    "Абстрактная функция потерь. do_forward() - подсчёт функции потерь"
   ]
  },
  {
   "cell_type": "code",
   "execution_count": 15,
   "metadata": {
    "collapsed": true
   },
   "outputs": [],
   "source": [
    "class Loss(object):\n",
    "    '''\n",
    "        Абстрактная фуенкция потерь\n",
    "    '''\n",
    "    def forward(self, x, y, params, test=False):\n",
    "        self.output = self.do_forward(x, y, params, test)\n",
    "        return self.output\n",
    "    \n",
    "    def backward(self):\n",
    "        self.output.backward()\n",
    "        \n",
    "    def do_forward(self, x, y, params, test=False):\n",
    "        assert False, 'Abstract class'\n",
    "        \n",
    "    def visualize(self):\n",
    "        assert False, 'Abstract class'\n",
    "    "
   ]
  },
  {
   "cell_type": "markdown",
   "metadata": {},
   "source": [
    "Кросс-энтропия $\\sum_{l \\in samples} \\sum_{i \\in classes} -y_{i}^{(l)}log(\\hat{y_{i}}^{(l)})$. Т.к. softmax уже берёт логарифм, тут мы его не берём."
   ]
  },
  {
   "cell_type": "code",
   "execution_count": 16,
   "metadata": {
    "collapsed": true
   },
   "outputs": [],
   "source": [
    "class CrossEntropy(Loss):\n",
    "    '''\n",
    "        Кросс-энтропия\n",
    "    '''\n",
    "    def do_forward(self, x, y, params, test=False):\n",
    "        return torch.sum(-1*y* torch.squeeze(x))\n",
    "    \n",
    "    def visualize(self):\n",
    "        print('Cross entropy')"
   ]
  },
  {
   "cell_type": "markdown",
   "metadata": {},
   "source": [
    "SeqNet - класс последовательной сети. \n",
    "- add() - добавить в конец новый слой\n",
    "- setLoss() - установить функцию потерь\n",
    "- forward() - последовательный прямой проход по добавленным слоям\n",
    "- backward() - обратный проход и обновление параметров\n",
    "- visualize() - вывод слоёв"
   ]
  },
  {
   "cell_type": "code",
   "execution_count": 17,
   "metadata": {
    "collapsed": true
   },
   "outputs": [],
   "source": [
    "class SeqNet:\n",
    "    '''\n",
    "        Сеть, связывающая слои последовательно\n",
    "    '''\n",
    "    def __init__(self):\n",
    "        self.layers = []\n",
    "        self.output = None\n",
    "        self.loss = None\n",
    "        self.params = []\n",
    "        \n",
    "    def add(self, layer):\n",
    "        if len(self.layers) > 0:\n",
    "            assert self.layers[-1].output_shape == layer.input_shape, \\\n",
    "                'Неправильный размер входа. Ожидался {}, но был получен {}'.format(self.layers[-1].output_shape, layer.input_shape)\n",
    "        self.layers.append(layer)\n",
    "        self.params.append(layer.params)\n",
    "    \n",
    "    def add_many(self, *layers):\n",
    "        for l in layers:\n",
    "            self.add(l)\n",
    "    \n",
    "    def setLoss(self, loss):\n",
    "        self.loss = loss\n",
    "        \n",
    "    def forward(self, x, y=None, test=False):\n",
    "        self.output = x\n",
    "        for layer in self.layers:\n",
    "            self.output = layer.forward(self.output, test)\n",
    "        if (self.loss is not None) and (y is not None):\n",
    "            self.loss_value = self.loss.forward(self.output, y, self.params, test)\n",
    "        return self.output\n",
    "    \n",
    "    def backward(self, optimizer):\n",
    "        self.loss.backward()\n",
    "        for layer in self.layers[::-1]:\n",
    "            layer.backward(optimizer)\n",
    "            \n",
    "    def visualize(self):\n",
    "        for layer in self.layers:\n",
    "            layer.visualize()\n",
    "        if self.loss:\n",
    "            self.loss.visualize()"
   ]
  },
  {
   "cell_type": "markdown",
   "metadata": {},
   "source": [
    "Optimizer - ответственный за обновление весов. Получает на вход update() список параметров и список runtime-переменных."
   ]
  },
  {
   "cell_type": "code",
   "execution_count": 18,
   "metadata": {
    "collapsed": true
   },
   "outputs": [],
   "source": [
    "class Optimizer:\n",
    "    '''\n",
    "         Абстрактный класс \"оптимизатора\"\n",
    "    '''\n",
    "    \n",
    "    '''\n",
    "         Вызывается после каждой эпохи\n",
    "    '''\n",
    "    def update_epoch(self, n):\n",
    "        assert False, 'Abstract class'\n",
    "    \n",
    "    '''\n",
    "        Обновление параметров\n",
    "    '''\n",
    "    def update(self, params, runtime):\n",
    "        assert False, 'Abstract class'"
   ]
  },
  {
   "cell_type": "code",
   "execution_count": 19,
   "metadata": {
    "collapsed": true
   },
   "outputs": [],
   "source": [
    "class SimpleOptimizer(Optimizer):\n",
    "    '''\n",
    "        Простой \"оптимизатор\" с фиксированным learning rate\n",
    "    '''\n",
    "    def __init__(self, learning_rate):\n",
    "        self.learning_rate = learning_rate\n",
    "        \n",
    "    def update_epoch(self, n):\n",
    "        pass\n",
    "        \n",
    "    def update(self, params, runtime):\n",
    "        for param in params:\n",
    "            param.data -= self.learning_rate * param.grad.data"
   ]
  },
  {
   "cell_type": "markdown",
   "metadata": {},
   "source": [
    "Функции для итерации батчей, обучения и подсчёта Accuracy"
   ]
  },
  {
   "cell_type": "code",
   "execution_count": 20,
   "metadata": {
    "collapsed": true
   },
   "outputs": [],
   "source": [
    "from tqdm import trange\n",
    "def iterate_minibatches(inputs, targets, batchsize, shuffle=False):\n",
    "    assert len(inputs) == len(targets)\n",
    "    if shuffle:\n",
    "        indices = np.random.permutation(len(inputs))\n",
    "    for start_idx in trange(0, len(inputs) - batchsize + 1, batchsize):\n",
    "        if shuffle:\n",
    "            excerpt = indices[start_idx:start_idx + batchsize]\n",
    "        else:\n",
    "            excerpt = slice(start_idx, start_idx + batchsize)\n",
    "        yield inputs[excerpt], targets[excerpt]\n",
    "        \n",
    "def accuracy(result, val_tensor):\n",
    "    t, ind_result = torch.max(result, 1)\n",
    "    t, ind_val = torch.max(val_tensor, 1)\n",
    "    return (torch.sum((ind_result==ind_val).float())/len(val_tensor)).data.numpy()[0]\n",
    "\n",
    "def train(net, optimizer, n_epochs, batch_size, X, y, X_test, y_test, shuffle=False):\n",
    "    loss_history = []\n",
    "    test_history = []\n",
    "    x_tensor = Variable(torch.FloatTensor((batch_size, X.shape[1], X.shape[2])))\n",
    "    test_tensor = Variable(X_test)\n",
    "    val_tensor = Variable(y_test)\n",
    "    y_tensor = Variable(torch.FloatTensor((batch_size, y.shape[1])))\n",
    "    for i in range(n_epochs):\n",
    "        loss_per_batch = []\n",
    "        for x_batch, y_batch in iterate_minibatches(X, y, batch_size, shuffle):\n",
    "            x_tensor.data=x_batch\n",
    "            y_tensor.data=y_batch\n",
    "            net.forward(x_tensor, y_tensor)\n",
    "            loss_per_batch.append(net.loss_value.data.numpy()[0])\n",
    "            net.backward(optimizer)\n",
    "        optimizer.update_epoch(i)\n",
    "        display.clear_output()\n",
    "        result = net.forward(test_tensor, val_tensor, True)\n",
    "        test_history.append(net.loss_value.data.numpy()[0]/len(X_test))\n",
    "        print('Accuracy:{}'.format(accuracy(result, val_tensor)))\n",
    "        loss_history.append(np.sum(loss_per_batch)/len(X))\n",
    "        plt.plot(np.arange(i+1), loss_history, label='train')\n",
    "        plt.plot(np.arange(i+1), test_history, label='test')\n",
    "        plt.legend()\n",
    "        plt.show()"
   ]
  },
  {
   "cell_type": "markdown",
   "metadata": {},
   "source": [
    "Построим сеть:"
   ]
  },
  {
   "cell_type": "code",
   "execution_count": 21,
   "metadata": {},
   "outputs": [
    {
     "name": "stdout",
     "output_type": "stream",
     "text": [
      "Transform (-1, 28, 28) → (-1, 784)\n",
      "Dense Layer (-1, 784) → (-1, 320)\n",
      "Relu (-1, 320)\n",
      "Dense Layer (-1, 320) → (-1, 10)\n",
      "Softmax (-1, 10)\n",
      "Cross entropy\n"
     ]
    }
   ],
   "source": [
    "net = SeqNet()\n",
    "net.add(Transform((-1, 28, 28), (-1, 28*28)))\n",
    "net.add(Dense(28*28, 320))\n",
    "net.add(ReLU((-1, 320)))\n",
    "net.add(Dense(320, 10))\n",
    "net.add(Softmax(10))\n",
    "net.setLoss(CrossEntropy())\n",
    "\n",
    "net.visualize()"
   ]
  },
  {
   "cell_type": "code",
   "execution_count": 22,
   "metadata": {},
   "outputs": [
    {
     "name": "stdout",
     "output_type": "stream",
     "text": [
      "Accuracy:0.8692587018013\n"
     ]
    },
    {
     "data": {
      "image/png": "[encoded data removed]",
      "text/plain": [
       "<matplotlib.figure.Figure at 0x7f988236c1d0>"
      ]
     },
     "metadata": {},
     "output_type": "display_data"
    }
   ],
   "source": [
    "optimizer = SimpleOptimizer(1e-7)\n",
    "train(net, optimizer, 50, 128, X_train, y_train, X_test, y_test)"
   ]
  },
  {
   "cell_type": "markdown",
   "metadata": {},
   "source": [
    "Кажется, модель переобучается. Попробуем это исправить"
   ]
  },
  {
   "cell_type": "markdown",
   "metadata": {},
   "source": [
    "### Задание 1: Градиентный спуск (1 балл)"
   ]
  },
  {
   "cell_type": "markdown",
   "metadata": {},
   "source": [
    "Изменим градиентный спуск - добавим момент\n",
    "\n",
    "$v_t = \\beta v_{t-1} + \\text{learning_rate} * \\nabla_w J $  \n",
    "$w_t = w_{t-1} - v_t$"
   ]
  },
  {
   "cell_type": "code",
   "execution_count": 26,
   "metadata": {
    "collapsed": true
   },
   "outputs": [],
   "source": [
    "from torch import FloatTensor"
   ]
  },
  {
   "cell_type": "code",
   "execution_count": 27,
   "metadata": {
    "collapsed": true
   },
   "outputs": [],
   "source": [
    "class Moment:\n",
    "    '''\n",
    "        Класс, хранящийся в списке runtime в слое. \n",
    "        Если список пуст, а параметры у слоя есть, то инициализируются в init_runtime()\n",
    "    '''\n",
    "    def __init__(self, shape):\n",
    "        self.moment = FloatTensor(torch.from_numpy(np.zeros(shape, dtype='float32')))\n",
    "\n",
    "class MomentOptimizer(Optimizer):\n",
    "    def __init__(self, learning_rate, beta):\n",
    "        self.learning_rate = learning_rate\n",
    "        self.beta = beta\n",
    "    \n",
    "    def update_epoch(self, n):\n",
    "        pass\n",
    "    \n",
    "    def update(self, params, runtime):\n",
    "        if len(runtime) == 0 and len(params) > 0:\n",
    "            self.init_runtime(params, runtime)\n",
    "        for i in range(len(runtime)):\n",
    "            runtime[i].moment = self.beta * runtime[i].moment + self.learning_rate * params[i].grad.data\n",
    "            params[i].data -= runtime[i].moment\n",
    "            \n",
    "    def init_runtime(self, params, runtime):\n",
    "        for param in params:\n",
    "            runtime.append(Moment(tuple(param.data.shape)))"
   ]
  },
  {
   "cell_type": "code",
   "execution_count": 28,
   "metadata": {},
   "outputs": [
    {
     "name": "stdout",
     "output_type": "stream",
     "text": [
      "Transform (-1, 28, 28) → (-1, 784)\n",
      "Dense Layer (-1, 784) → (-1, 320)\n",
      "Relu (-1, 320)\n",
      "Dense Layer (-1, 320) → (-1, 10)\n",
      "Softmax (-1, 10)\n",
      "Cross entropy\n"
     ]
    }
   ],
   "source": [
    "net = SeqNet()\n",
    "net.add(Transform((-1, 28, 28), (-1, 28*28)))\n",
    "net.add(Dense(28*28, 320))\n",
    "net.add(ReLU((-1, 320)))\n",
    "net.add(Dense(320, 10))\n",
    "net.add(Softmax(10))\n",
    "net.setLoss(CrossEntropy())\n",
    "\n",
    "net.visualize()"
   ]
  },
  {
   "cell_type": "code",
   "execution_count": 29,
   "metadata": {},
   "outputs": [
    {
     "name": "stdout",
     "output_type": "stream",
     "text": [
      "Accuracy:0.8882717490196228\n"
     ]
    },
    {
     "data": {
      "image/png": "[encoded data removed]",
      "text/plain": [
       "<matplotlib.figure.Figure at 0x7f9882400550>"
      ]
     },
     "metadata": {},
     "output_type": "display_data"
    }
   ],
   "source": [
    "optimizer = MomentOptimizer(1e-7, 0.5)\n",
    "train(net, optimizer, 50, 128, X_train, y_train, X_test, y_test)"
   ]
  },
  {
   "cell_type": "markdown",
   "metadata": {},
   "source": [
    "Всё ещё сильное переобучение."
   ]
  },
  {
   "cell_type": "markdown",
   "metadata": {},
   "source": [
    "### Задание 2: Регуляризация  (1 балл)"
   ]
  },
  {
   "cell_type": "markdown",
   "metadata": {},
   "source": [
    "Добавим L2-регуляризацию - сумму квадратов параметров по всем слоям. Также надо не забыть, что вычисления ведутся по батчу, а значит надо штрафовать пропорционально размеру батча"
   ]
  },
  {
   "cell_type": "code",
   "execution_count": null,
   "metadata": {
    "collapsed": true
   },
   "outputs": [],
   "source": [
    "class CrossEntropyL2(Loss):\n",
    "    '''\n",
    "        Кросс-энтропия c L2 регуляризацией\n",
    "    '''\n",
    "    def __init__(self, l2_coeff):\n",
    "        self.l2_coeff = l2_coeff\n",
    "    \n",
    "    def do_forward(self, x, y, params, test=False):\n",
    "        params_sum = 0\n",
    "        for layer_params in params:\n",
    "            for param in layer_params:\n",
    "                #<ваш код здесь>\n",
    "        return #<ваш код здесь>\n",
    "    \n",
    "    def visualize(self):\n",
    "        print('Cross entropy with L2')"
   ]
  },
  {
   "cell_type": "code",
   "execution_count": null,
   "metadata": {},
   "outputs": [],
   "source": [
    "net = SeqNet()\n",
    "net.add(Transform((-1, 28, 28), (-1, 28*28)))\n",
    "net.add(Dense(28*28, 320))\n",
    "net.add(ReLU((-1, 320)))\n",
    "net.add(Dense(320, 10))\n",
    "net.add(Softmax(10))\n",
    "net.setLoss(CrossEntropyL2(0.001))\n",
    "\n",
    "net.visualize()"
   ]
  },
  {
   "cell_type": "code",
   "execution_count": null,
   "metadata": {},
   "outputs": [],
   "source": [
    "optimizer = MomentOptimizer(1e-7, 0.5)\n",
    "train(net, optimizer, 50, 128, X_train, y_train, X_test, y_test)"
   ]
  },
  {
   "cell_type": "markdown",
   "metadata": {},
   "source": [
    "### Задание 3: Свёрточные сети (2 балла)"
   ]
  },
  {
   "cell_type": "markdown",
   "metadata": {},
   "source": [
    "Создадим свёрточный слой и max pooling слой. Мы могли бы их честно реализовать с помощью операций на тензорах, но их производительность была бы крайне низкой. Так что воспользуемся готовыми функциями torch.nn.functional.conv2d и torch.nn.functional.max_pool2d"
   ]
  },
  {
   "cell_type": "code",
   "execution_count": null,
   "metadata": {
    "collapsed": true
   },
   "outputs": [],
   "source": [
    "class Conv(Layer):\n",
    "    def __init__(self, input_width, input_height, input_depth, kernel_size, n_filters, stride=1, padding=0):\n",
    "        super(Conv, self).__init__((-1, input_depth, input_width, input_height),\n",
    "                                   (-1, n_filters, (input_width+2*padding-kernel_size+1)//stride,\n",
    "                                                   (input_height+2*padding-kernel_size+1)//stride))\n",
    "        self.n_filters = n_filters\n",
    "        self.input_width = input_width\n",
    "        self.input_height = input_height\n",
    "        self.input_depth = input_depth\n",
    "        self.kernel_size = kernel_size\n",
    "        self.stride = stride\n",
    "        self.padding = padding\n",
    "        self.filters = #<ваш код здесь>\n",
    "        self.bias = #<ваш код здесь>\n",
    "        self.params = [self.filters, self.bias]\n",
    "    \n",
    "    def forward(self, x, test=False):\n",
    "        self.output = #<ваш код здесь>\n",
    "        return self.output\n",
    "    \n",
    "    def visualize(self):\n",
    "        print('Conv {} x {} ({}, {}, {})->({}, {}, {})'.format(self.kernel_size, self.kernel_size,\n",
    "                                                   self.input_depth, self.input_width, self.input_height,\n",
    "                                                   self.n_filters, self.output_shape[2], self.output_shape[3]))\n",
    "        \n",
    "class MaxPool(Layer):\n",
    "    def __init__(self, input_width, input_height, input_depth, kernel_size):\n",
    "        super(MaxPool, self).__init__((-1, input_depth, input_width, input_height),\n",
    "                                   (-1, input_depth, input_width//kernel_size,\n",
    "                                                   input_height//kernel_size))\n",
    "        self.input_depth = input_depth\n",
    "        self.input_width = input_width\n",
    "        self.input_height = input_height\n",
    "        self.kernel_size = kernel_size\n",
    "    \n",
    "    def forward(self, x, test=False):\n",
    "        self.output = #<ваш код здесь>\n",
    "        return self.output\n",
    "    \n",
    "    def visualize(self):\n",
    "        print('Max Pool2d {} ({})->({})'.format(self.kernel_size, self.input_shape, self.output_shape))"
   ]
  },
  {
   "cell_type": "markdown",
   "metadata": {},
   "source": [
    "Следующая сеть просто проверяет корректность реализации и не даёт хорошего результата"
   ]
  },
  {
   "cell_type": "code",
   "execution_count": null,
   "metadata": {},
   "outputs": [],
   "source": [
    "net = SeqNet()\n",
    "net.add(Transform((-1, 28, 28), (-1, 1, 28, 28)))\n",
    "net.add(Conv(28, 28, 1, 5, 10))\n",
    "net.add(ReLU((-1, 10, 24, 24)))\n",
    "net.add(MaxPool(24, 24, 10, 2))\n",
    "net.add(Conv(12, 12, 10, 5, 20))\n",
    "net.add(ReLU((-1, 20, 8, 8)))\n",
    "net.add(MaxPool(8, 8, 20, 2))\n",
    "net.add(Transform((-1, 20, 4, 4), (-1, 20*4*4)))\n",
    "net.add(Dense(20*4*4, 10))\n",
    "net.add(Softmax(10))\n",
    "net.setLoss(CrossEntropyL2(0.0002))\n",
    "net.visualize()"
   ]
  },
  {
   "cell_type": "code",
   "execution_count": null,
   "metadata": {},
   "outputs": [],
   "source": [
    "optimizer = MomentOptimizer(1e-7, 0.4)\n",
    "train(net, optimizer, 10, 128, X_train, y_train, X_test, y_test)"
   ]
  },
  {
   "cell_type": "markdown",
   "metadata": {},
   "source": [
    "### Задание 4: Собственная сеть (6 баллов)"
   ]
  },
  {
   "cell_type": "markdown",
   "metadata": {},
   "source": [
    "А теперь настало время написать собственную сеть. За вдохновением можно обратиться к архитектурам подобным [LeNet 5](https://www.pyimagesearch.com/wp-content/uploads/2016/06/lenet_architecture.png).\n",
    "Для этого надо воспользоваться всем инструментарием, который мы уже написали и реализовать хотя бы один дополнительный оптимизатор или слой.\n",
    "#### Критерии:\n",
    "1. Реализовано хотя бы одно из слеующего (2 балла):\n",
    "    - Dropout\n",
    "    - Adam (модификация градиентного спуска)\n",
    "    - RMSProp (модификация градиентного спуска)\n",
    "2. Получен Accuracy >=0.91 на тестовом сете (2 балла)\n",
    "3. Получен Accuracy >=0.92.5 на тестовом сете (1 балл)\n",
    "4. Получен Accuracy >=0.94 на тестовом сете (1 балл)\n",
    "\n",
    "Обучение должно занимать меньше 10 минут на CPU (этого времени более, чем достаточно для получения требуемых результатов). При обучении данные тестового датасета не должны использоваться кроме как для замера качества."
   ]
  },
  {
   "cell_type": "markdown",
   "metadata": {},
   "source": [
    "Советы по реализации:\n",
    "  - Не переусложняйте. Не надо пытаться сделать очень глубокую сеть - они слишком сложны для такой задачи и будут только переобучаться.\n",
    "  - 50 (даже 30) эпох более, чем достаточно для достижения цели\n",
    "  - Dropout наиболее эффективно работает перед полносвязными слоями\n",
    "  - Если сеть совсем не обучается или значения функции потерь сильно скачут - скорее всего неверно подобран learning rate"
   ]
  },
  {
   "cell_type": "markdown",
   "metadata": {},
   "source": [
    "#### На выбор:\n",
    "##### Dropout\n",
    "Dropout можно реализовать поэлементным перемножением входного тензора на тензор со сгенерированными нулями и единицами, полученными, например, с помощью *np.random.binomial(1, self.p, tuple(x.data.shape))*.  \n",
    "Не забудьте, что dropout вне режима обучения просто домножает значения на ту вероятность, с которой пропускался сигнал в режиме обучения. Отличать режимы можно с помощью параметра *test* в *forward()*\n",
    "\n",
    "##### Adam\n",
    "Adam на t-й итерации вычисляется следующим образом:  \n",
    "$m_t = \\beta_1 m_{t−1}+(1−\\beta_1)g_t$  \n",
    "$v_t=\\beta_2 v_{t−1}+(1−\\beta_2)g_t^2$  \n",
    "$\\hat{m}_t = \\frac{m_t}{1 - \\beta_1^t}$  \n",
    "$\\hat{v}_t = \\frac{v_t}{1 - \\beta_2^t}$  \n",
    "$w_t = w_{t-1} - \\frac{\\eta}{\\sqrt{\\hat{v}_t}+\\epsilon} \\hat{m}_t $\n",
    "\n",
    "$\\beta_1$, $\\beta_2$ - гиперпараметры, обычно ~0.9 и ~0.999   \n",
    "$g_t$ - градиент параметров на t-й итерации  \n",
    "$w_t$ - параметры на t-й итерации  \n",
    "$\\eta$ - learning rate  \n",
    "$\\epsilon$ ~ $10^{-8}$ - для избежания деления на 0\n",
    "\n",
    "##### RMSprop\n",
    "RMSprop на t-й итерации вычисляется следующим образом:  \n",
    "$v_t=\\gamma v_{t−1}+(1−\\gamma)g_t^2$  \n",
    "$w_t = w_{t-1} - \\frac{\\eta}{\\sqrt{v_t+\\epsilon}} g_t $\n",
    "\n",
    "$\\gamma$ - гиперпараметр, обычно ~0.9\n",
    "$g_t$ - градиент параметров на t-й итерации  \n",
    "$w_t$ - параметры на t-й итерации  \n",
    "$\\eta$ - learning rate  \n",
    "$\\epsilon$ ~ $10^{-8}$ - для избежания деления на 0"
   ]
  },
  {
   "cell_type": "markdown",
   "metadata": {},
   "source": [
    "### Бонус - визуализация свёрточной сети"
   ]
  },
  {
   "cell_type": "markdown",
   "metadata": {},
   "source": [
    "Картинки, дающие максимальный отклик фильтров. Получим их с помощью магии autograd, взяв градиент по входной картинке."
   ]
  },
  {
   "cell_type": "code",
   "execution_count": null,
   "metadata": {
    "collapsed": true,
    "scrolled": false
   },
   "outputs": [],
   "source": [
    "def maximize(filter_id, net, layer_id):\n",
    "    input = Variable(torch.randn((1, 28,28)), requires_grad = True)\n",
    "    optimizer = MomentOptimizer(3, 0.5)\n",
    "    runtime = []\n",
    "    params = [input]\n",
    "    for i in range(5000):\n",
    "        net.forward(input)\n",
    "        f = -torch.sum(net.layers[layer_id].output[:, filter_id, :, :])\n",
    "        f.backward()\n",
    "        optimizer.update(params, runtime)\n",
    "    plt.imshow(input.data.numpy()[0], cmap='gray')\n",
    "    plt.show()\n",
    "    \n",
    "first_level = # Номер слоя, вывод которого максимизируем.\n",
    "first_level_filters =  # Количество фильтров на слое\n",
    "second_level =  # Номер слоя, вывод которого максимизируем.\n",
    "second_level_filters = # Количество фильтров на слое"
   ]
  },
  {
   "cell_type": "markdown",
   "metadata": {},
   "source": [
    "Первый свёрточный слой (после нелинейности). Как видно фильтры этого слоя выделяют штрихи в разных направлениях"
   ]
  },
  {
   "cell_type": "code",
   "execution_count": null,
   "metadata": {
    "scrolled": false
   },
   "outputs": [],
   "source": [
    "for i in range(first_level_filters):\n",
    "    maximize(i, net, first_level)"
   ]
  },
  {
   "cell_type": "markdown",
   "metadata": {},
   "source": [
    "Второй свёрточный слой (после нелинейности). Фильтры выделяют более сложные паттерны."
   ]
  },
  {
   "cell_type": "code",
   "execution_count": null,
   "metadata": {
    "scrolled": false
   },
   "outputs": [],
   "source": [
    "for i in range(second_level_filters):\n",
    "    maximize(i, net, second_level)"
   ]
  },
  {
   "cell_type": "markdown",
   "metadata": {},
   "source": [
    "Посмотрим, как выглядят карты признаков для случайной буквы из датасета."
   ]
  },
  {
   "cell_type": "code",
   "execution_count": null,
   "metadata": {
    "collapsed": true
   },
   "outputs": [],
   "source": [
    "'''\n",
    "    Карты признаков\n",
    "'''\n",
    "def visualize_feature_maps(net, sample):\n",
    "    net.forward(Variable(sample), test=True)\n",
    "    fig, axes = plt.subplots(2, first_level_filters, figsize=(20, 5))\n",
    "    for i in range(first_level_filters):\n",
    "        axes[0, i].imshow(net.layers[1].output.data.numpy()[0, i, :, :], cmap='gray')\n",
    "        axes[1, i].imshow(net.layers[3].output.data.numpy()[0, i, :, :], cmap='gray')\n",
    "    fig, axes = plt.subplots(2, second_level_filters, figsize=(20, 5))\n",
    "    for i in range(second_level_filters):\n",
    "        axes[0, i].imshow(net.layers[4].output.data.numpy()[0, i, :, :], cmap='gray')\n",
    "        axes[1, i].imshow(net.layers[6].output.data.numpy()[0, i, :, :], cmap='gray')\n",
    "    plt.show()\n"
   ]
  },
  {
   "cell_type": "code",
   "execution_count": null,
   "metadata": {},
   "outputs": [],
   "source": [
    "sample_id = np.random.randint(0, len(y_train))\n",
    "sample = X_train[sample_id:sample_id+1]\n",
    "plt.imshow(sample[0].numpy(), cmap='gray')\n",
    "plt.show()\n",
    "\n",
    "visualize_feature_maps(net, sample)\n",
    "\n",
    "# Визуализация последнего полносвязного слоя\n",
    "#plt.imshow(net.layers[#<номер слоя>].output.data.view(1, 10).numpy(), cmap='gray')\n",
    "#plt.show()"
   ]
  }
 ],
 "metadata": {
  "kernelspec": {
   "display_name": "Python 3",
   "language": "python",
   "name": "python3"
  },
  "language_info": {
   "codemirror_mode": {
    "name": "ipython",
    "version": 3
   },
   "file_extension": ".py",
   "mimetype": "text/x-python",
   "name": "python",
   "nbconvert_exporter": "python",
   "pygments_lexer": "ipython3",
   "version": "3.5.2"
  }
 },
 "nbformat": 4,
 "nbformat_minor": 2
}
